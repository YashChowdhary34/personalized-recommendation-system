{
 "cells": [
  {
   "cell_type": "markdown",
   "metadata": {},
   "source": [
    "# Model Building -> Collaborative Filtering"
   ]
  },
  {
   "cell_type": "markdown",
   "metadata": {},
   "source": [
    "### Importing Data"
   ]
  },
  {
   "cell_type": "code",
   "execution_count": 10,
   "metadata": {},
   "outputs": [],
   "source": [
    "import pandas as pd\n",
    "\n",
    "train_data = pd.read_csv('./../data/train_data.csv', parse_dates=['Timestamp'])"
   ]
  },
  {
   "cell_type": "code",
   "execution_count": 11,
   "metadata": {},
   "outputs": [
    {
     "name": "stdout",
     "output_type": "stream",
     "text": [
      "<class 'pandas.core.frame.DataFrame'>\n",
      "RangeIndex: 83726 entries, 0 to 83725\n",
      "Data columns (total 8 columns):\n",
      " #   Column                Non-Null Count  Dtype         \n",
      "---  ------                --------------  -----         \n",
      " 0   UserId                83726 non-null  int64         \n",
      " 1   ProductId             83726 non-null  int64         \n",
      " 2   Rating                83726 non-null  float64       \n",
      " 3   Timestamp             83726 non-null  datetime64[ns]\n",
      " 4   user_interactions     83726 non-null  float64       \n",
      " 5   product_interactions  83726 non-null  float64       \n",
      " 6   Recency               83726 non-null  int64         \n",
      " 7   User_Avg_Rating       83726 non-null  float64       \n",
      "dtypes: datetime64[ns](1), float64(4), int64(3)\n",
      "memory usage: 5.1 MB\n",
      "None\n",
      "   UserId  ProductId  Rating  Timestamp  user_interactions  \\\n",
      "0    1880      17471     5.0 2014-05-27           0.029661   \n",
      "1    8943      13578     1.0 2012-10-14           0.029661   \n",
      "2    6579      12061     5.0 2012-07-07           0.029661   \n",
      "3    4547      10219     5.0 2014-01-10           0.165254   \n",
      "4    1720       4707     5.0 2013-04-16           0.046610   \n",
      "\n",
      "   product_interactions  Recency  User_Avg_Rating  \n",
      "0              0.195833       57            4.625  \n",
      "1              0.045833      647            3.750  \n",
      "2              0.087500      746            4.250  \n",
      "3              0.016667      194            4.425  \n",
      "4              0.100000      463            3.000  \n"
     ]
    }
   ],
   "source": [
    "print(train_data.info())\n",
    "print(train_data.head())"
   ]
  },
  {
   "cell_type": "markdown",
   "metadata": {},
   "source": [
    "### Item-Based Collaborative Filtering"
   ]
  },
  {
   "cell_type": "markdown",
   "metadata": {},
   "source": [
    "#### create user-item interaction matrix"
   ]
  },
  {
   "cell_type": "code",
   "execution_count": 12,
   "metadata": {},
   "outputs": [
    {
     "name": "stdout",
     "output_type": "stream",
     "text": [
      "ProductId  1      3      4      5      6      8      10     11     12     \\\n",
      "UserId                                                                     \n",
      "0            NaN    NaN    NaN    NaN    NaN    NaN    NaN    NaN    NaN   \n",
      "1            NaN    NaN    NaN    NaN    NaN    NaN    NaN    NaN    NaN   \n",
      "2            NaN    NaN    NaN    NaN    NaN    NaN    NaN    NaN    NaN   \n",
      "3            NaN    NaN    NaN    NaN    NaN    NaN    NaN    NaN    NaN   \n",
      "4            NaN    NaN    NaN    NaN    NaN    NaN    NaN    NaN    NaN   \n",
      "\n",
      "ProductId  13     ...  29141  29142  29143  29144  29145  29146  29148  29149  \\\n",
      "UserId            ...                                                           \n",
      "0            NaN  ...    NaN    NaN    NaN    NaN    NaN    NaN    NaN    NaN   \n",
      "1            NaN  ...    NaN    NaN    NaN    NaN    NaN    NaN    NaN    NaN   \n",
      "2            NaN  ...    NaN    NaN    NaN    NaN    NaN    NaN    NaN    NaN   \n",
      "3            NaN  ...    NaN    NaN    NaN    NaN    NaN    NaN    NaN    NaN   \n",
      "4            NaN  ...    NaN    NaN    NaN    NaN    NaN    NaN    NaN    NaN   \n",
      "\n",
      "ProductId  29150  29151  \n",
      "UserId                   \n",
      "0            NaN    NaN  \n",
      "1            NaN    NaN  \n",
      "2            NaN    NaN  \n",
      "3            NaN    NaN  \n",
      "4            NaN    NaN  \n",
      "\n",
      "[5 rows x 22957 columns]\n"
     ]
    }
   ],
   "source": [
    "user_item_matrix = train_data.pivot(index='UserId', columns='ProductId', values='Rating')\n",
    "print(user_item_matrix.head())"
   ]
  },
  {
   "cell_type": "markdown",
   "metadata": {},
   "source": [
    "#### Addressing Sparsity"
   ]
  },
  {
   "cell_type": "code",
   "execution_count": 13,
   "metadata": {},
   "outputs": [
    {
     "name": "stdout",
     "output_type": "stream",
     "text": [
      "ProductId  1      3      4      5      6      8      10     11     12     \\\n",
      "UserId                                                                     \n",
      "0            0.0    0.0    0.0    0.0    0.0    0.0    0.0    0.0    0.0   \n",
      "1            0.0    0.0    0.0    0.0    0.0    0.0    0.0    0.0    0.0   \n",
      "2            0.0    0.0    0.0    0.0    0.0    0.0    0.0    0.0    0.0   \n",
      "3            0.0    0.0    0.0    0.0    0.0    0.0    0.0    0.0    0.0   \n",
      "4            0.0    0.0    0.0    0.0    0.0    0.0    0.0    0.0    0.0   \n",
      "\n",
      "ProductId  13     ...  29141  29142  29143  29144  29145  29146  29148  29149  \\\n",
      "UserId            ...                                                           \n",
      "0            0.0  ...    0.0    0.0    0.0    0.0    0.0    0.0    0.0    0.0   \n",
      "1            0.0  ...    0.0    0.0    0.0    0.0    0.0    0.0    0.0    0.0   \n",
      "2            0.0  ...    0.0    0.0    0.0    0.0    0.0    0.0    0.0    0.0   \n",
      "3            0.0  ...    0.0    0.0    0.0    0.0    0.0    0.0    0.0    0.0   \n",
      "4            0.0  ...    0.0    0.0    0.0    0.0    0.0    0.0    0.0    0.0   \n",
      "\n",
      "ProductId  29150  29151  \n",
      "UserId                   \n",
      "0            0.0    0.0  \n",
      "1            0.0    0.0  \n",
      "2            0.0    0.0  \n",
      "3            0.0    0.0  \n",
      "4            0.0    0.0  \n",
      "\n",
      "[5 rows x 22957 columns]\n"
     ]
    }
   ],
   "source": [
    "user_item_matrix = user_item_matrix.fillna(0)\n",
    "print(user_item_matrix.head())"
   ]
  },
  {
   "cell_type": "code",
   "execution_count": 14,
   "metadata": {},
   "outputs": [
    {
     "name": "stdout",
     "output_type": "stream",
     "text": [
      "Sparsity: 99.97%\n",
      "(12419, 22957)\n"
     ]
    }
   ],
   "source": [
    "sparsity = 1.0 - (user_item_matrix.astype(bool).sum(axis=1).sum() / user_item_matrix.size)\n",
    "print(f'Sparsity: {sparsity * 100:.2f}%')\n",
    "print(user_item_matrix.shape)"
   ]
  },
  {
   "cell_type": "code",
   "execution_count": 15,
   "metadata": {},
   "outputs": [
    {
     "name": "stdout",
     "output_type": "stream",
     "text": [
      "(12419, 22957)\n"
     ]
    }
   ],
   "source": [
    "min_interactions = 1\n",
    "user_item_matrix = user_item_matrix.loc[\n",
    "  user_item_matrix.sum(axis=1) >= min_interactions,\n",
    "  user_item_matrix.sum(axis=0) >= min_interactions\n",
    "]\n",
    "print(user_item_matrix.shape)"
   ]
  },
  {
   "cell_type": "markdown",
   "metadata": {},
   "source": [
    "#### compute similarity"
   ]
  },
  {
   "cell_type": "code",
   "execution_count": 16,
   "metadata": {},
   "outputs": [
    {
     "name": "stdout",
     "output_type": "stream",
     "text": [
      "ProductId  1      3      4      5      6      8      10     11     12     \\\n",
      "ProductId                                                                  \n",
      "1            1.0    0.0    0.0    0.0    0.0    0.0    0.0    0.0    0.0   \n",
      "3            0.0    1.0    0.0    0.0    0.0    0.0    0.0    0.0    0.0   \n",
      "4            0.0    0.0    1.0    0.0    0.0    0.0    0.0    0.0    0.0   \n",
      "5            0.0    0.0    0.0    1.0    0.0    0.0    0.0    0.0    0.0   \n",
      "6            0.0    0.0    0.0    0.0    1.0    0.0    0.0    0.0    0.0   \n",
      "\n",
      "ProductId  13     ...  29141  29142  29143  29144  29145  29146  29148  29149  \\\n",
      "ProductId         ...                                                           \n",
      "1            0.0  ...    0.0    0.0    0.0    0.0    0.0    0.0    0.0    0.0   \n",
      "3            0.0  ...    0.0    0.0    0.0    0.0    0.0    0.0    0.0    0.0   \n",
      "4            0.0  ...    0.0    0.0    0.0    0.0    0.0    0.0    0.0    0.0   \n",
      "5            0.0  ...    0.0    0.0    0.0    0.0    0.0    0.0    0.0    0.0   \n",
      "6            0.0  ...    0.0    0.0    0.0    0.0    0.0    0.0    0.0    0.0   \n",
      "\n",
      "ProductId  29150  29151  \n",
      "ProductId                \n",
      "1            0.0    0.0  \n",
      "3            0.0    0.0  \n",
      "4            0.0    0.0  \n",
      "5            0.0    0.0  \n",
      "6            0.0    0.0  \n",
      "\n",
      "[5 rows x 22957 columns]\n"
     ]
    }
   ],
   "source": [
    "from sklearn.metrics.pairwise import cosine_similarity\n",
    "import numpy as np\n",
    "\n",
    "#use cosine similarity to compute item-item similarity matrix\n",
    "item_similarity = cosine_similarity(user_item_matrix.T)\n",
    "item_similarity_df = pd.DataFrame(\n",
    "  item_similarity,\n",
    "  index=user_item_matrix.columns,\n",
    "  columns=user_item_matrix.columns\n",
    ")\n",
    "\n",
    "print(item_similarity_df.head())"
   ]
  },
  {
   "cell_type": "markdown",
   "metadata": {},
   "source": [
    "#### Generate Recommendations"
   ]
  },
  {
   "cell_type": "code",
   "execution_count": 17,
   "metadata": {},
   "outputs": [
    {
     "name": "stdout",
     "output_type": "stream",
     "text": [
      "[17066, 26268, 21917, 8835, 19444]\n"
     ]
    }
   ],
   "source": [
    "# creating function to recommend top-N items based on the highest similarity scores\n",
    "\n",
    "def recommend_items(user_id, user_item_matrix, item_similarity_df, n=5):\n",
    "  #fetch user's interactions data\n",
    "  user_ratings =  user_item_matrix.loc[user_id]\n",
    "\n",
    "  #calculate scores by multiplying ratings with item similarity\n",
    "  scores = np.dot(user_ratings, item_similarity_df)\n",
    "  scores_df = pd.Series(scores, index=item_similarity_df.index)\n",
    "\n",
    "  #recommend top-N items the user hasn't interacted with\n",
    "  recommend_items = scores_df[user_ratings == 0].sort_values(ascending=False).head(n)\n",
    "  return recommend_items.index.tolist()\n",
    "\n",
    "#testing for user_id = 0\n",
    "print(recommend_items(0, user_item_matrix, item_similarity_df))\n"
   ]
  },
  {
   "cell_type": "markdown",
   "metadata": {},
   "source": [
    "### Exporting Data "
   ]
  },
  {
   "cell_type": "code",
   "execution_count": 18,
   "metadata": {},
   "outputs": [],
   "source": [
    "user_item_matrix.to_csv('./../data/user_item_matrix.csv', index=False)\n",
    "item_similarity_df.to_pickle('./../data/item_similarity_matrix.pkl')"
   ]
  }
 ],
 "metadata": {
  "kernelspec": {
   "display_name": "base",
   "language": "python",
   "name": "python3"
  },
  "language_info": {
   "codemirror_mode": {
    "name": "ipython",
    "version": 3
   },
   "file_extension": ".py",
   "mimetype": "text/x-python",
   "name": "python",
   "nbconvert_exporter": "python",
   "pygments_lexer": "ipython3",
   "version": "3.12.7"
  }
 },
 "nbformat": 4,
 "nbformat_minor": 2
}
